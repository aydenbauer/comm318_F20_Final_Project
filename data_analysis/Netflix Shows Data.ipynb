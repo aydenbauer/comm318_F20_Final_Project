{
 "cells": [
  {
   "cell_type": "markdown",
   "metadata": {},
   "source": [
    "In this notebook, I will explore if the search trends and popularity were affected by the releases of new television series. I will be doing this for the 2019-2020 year and the 2018-2019 year so that I can see if the pattern is consistent among both years. "
   ]
  },
  {
   "cell_type": "code",
   "execution_count": 1,
   "metadata": {},
   "outputs": [],
   "source": [
    "import pandas as pd\n",
    "import matplotlib.pyplot as plt\n",
    "from matplotlib import rcParams"
   ]
  },
  {
   "cell_type": "code",
   "execution_count": 2,
   "metadata": {},
   "outputs": [],
   "source": [
    "#upload netflix search timline"
   ]
  },
  {
   "cell_type": "code",
   "execution_count": 3,
   "metadata": {},
   "outputs": [],
   "source": [
    "NetflixTimeline_df = pd.read_csv('../data/NetflixTimeline.csv')"
   ]
  },
  {
   "cell_type": "code",
   "execution_count": 4,
   "metadata": {},
   "outputs": [
    {
     "name": "stdout",
     "output_type": "stream",
     "text": [
      "(53, 1)\n"
     ]
    }
   ],
   "source": [
    "print(NetflixTimeline_df.shape)"
   ]
  },
  {
   "cell_type": "code",
   "execution_count": 5,
   "metadata": {},
   "outputs": [
    {
     "data": {
      "text/html": [
       "<div>\n",
       "<style scoped>\n",
       "    .dataframe tbody tr th:only-of-type {\n",
       "        vertical-align: middle;\n",
       "    }\n",
       "\n",
       "    .dataframe tbody tr th {\n",
       "        vertical-align: top;\n",
       "    }\n",
       "\n",
       "    .dataframe thead th {\n",
       "        text-align: right;\n",
       "    }\n",
       "</style>\n",
       "<table border=\"1\" class=\"dataframe\">\n",
       "  <thead>\n",
       "    <tr style=\"text-align: right;\">\n",
       "      <th></th>\n",
       "      <th>Category: All categories</th>\n",
       "    </tr>\n",
       "  </thead>\n",
       "  <tbody>\n",
       "    <tr>\n",
       "      <th>Week</th>\n",
       "      <td>Netflix: (United States)</td>\n",
       "    </tr>\n",
       "    <tr>\n",
       "      <th>2019-10-27</th>\n",
       "      <td>54</td>\n",
       "    </tr>\n",
       "    <tr>\n",
       "      <th>2019-11-03</th>\n",
       "      <td>54</td>\n",
       "    </tr>\n",
       "    <tr>\n",
       "      <th>2019-11-10</th>\n",
       "      <td>54</td>\n",
       "    </tr>\n",
       "    <tr>\n",
       "      <th>2019-11-17</th>\n",
       "      <td>51</td>\n",
       "    </tr>\n",
       "    <tr>\n",
       "      <th>2019-11-24</th>\n",
       "      <td>59</td>\n",
       "    </tr>\n",
       "    <tr>\n",
       "      <th>2019-12-01</th>\n",
       "      <td>51</td>\n",
       "    </tr>\n",
       "    <tr>\n",
       "      <th>2019-12-08</th>\n",
       "      <td>50</td>\n",
       "    </tr>\n",
       "    <tr>\n",
       "      <th>2019-12-15</th>\n",
       "      <td>58</td>\n",
       "    </tr>\n",
       "    <tr>\n",
       "      <th>2019-12-22</th>\n",
       "      <td>76</td>\n",
       "    </tr>\n",
       "    <tr>\n",
       "      <th>2019-12-29</th>\n",
       "      <td>88</td>\n",
       "    </tr>\n",
       "    <tr>\n",
       "      <th>2020-01-05</th>\n",
       "      <td>68</td>\n",
       "    </tr>\n",
       "    <tr>\n",
       "      <th>2020-01-12</th>\n",
       "      <td>64</td>\n",
       "    </tr>\n",
       "    <tr>\n",
       "      <th>2020-01-19</th>\n",
       "      <td>67</td>\n",
       "    </tr>\n",
       "    <tr>\n",
       "      <th>2020-01-26</th>\n",
       "      <td>57</td>\n",
       "    </tr>\n",
       "    <tr>\n",
       "      <th>2020-02-02</th>\n",
       "      <td>57</td>\n",
       "    </tr>\n",
       "    <tr>\n",
       "      <th>2020-02-09</th>\n",
       "      <td>57</td>\n",
       "    </tr>\n",
       "    <tr>\n",
       "      <th>2020-02-16</th>\n",
       "      <td>57</td>\n",
       "    </tr>\n",
       "    <tr>\n",
       "      <th>2020-02-23</th>\n",
       "      <td>54</td>\n",
       "    </tr>\n",
       "    <tr>\n",
       "      <th>2020-03-01</th>\n",
       "      <td>53</td>\n",
       "    </tr>\n",
       "    <tr>\n",
       "      <th>2020-03-08</th>\n",
       "      <td>57</td>\n",
       "    </tr>\n",
       "    <tr>\n",
       "      <th>2020-03-15</th>\n",
       "      <td>90</td>\n",
       "    </tr>\n",
       "    <tr>\n",
       "      <th>2020-03-22</th>\n",
       "      <td>100</td>\n",
       "    </tr>\n",
       "    <tr>\n",
       "      <th>2020-03-29</th>\n",
       "      <td>95</td>\n",
       "    </tr>\n",
       "    <tr>\n",
       "      <th>2020-04-05</th>\n",
       "      <td>87</td>\n",
       "    </tr>\n",
       "    <tr>\n",
       "      <th>2020-04-12</th>\n",
       "      <td>82</td>\n",
       "    </tr>\n",
       "    <tr>\n",
       "      <th>2020-04-19</th>\n",
       "      <td>92</td>\n",
       "    </tr>\n",
       "    <tr>\n",
       "      <th>2020-04-26</th>\n",
       "      <td>84</td>\n",
       "    </tr>\n",
       "    <tr>\n",
       "      <th>2020-05-03</th>\n",
       "      <td>81</td>\n",
       "    </tr>\n",
       "    <tr>\n",
       "      <th>2020-05-10</th>\n",
       "      <td>73</td>\n",
       "    </tr>\n",
       "    <tr>\n",
       "      <th>2020-05-17</th>\n",
       "      <td>73</td>\n",
       "    </tr>\n",
       "    <tr>\n",
       "      <th>2020-05-24</th>\n",
       "      <td>72</td>\n",
       "    </tr>\n",
       "    <tr>\n",
       "      <th>2020-05-31</th>\n",
       "      <td>63</td>\n",
       "    </tr>\n",
       "    <tr>\n",
       "      <th>2020-06-07</th>\n",
       "      <td>68</td>\n",
       "    </tr>\n",
       "    <tr>\n",
       "      <th>2020-06-14</th>\n",
       "      <td>63</td>\n",
       "    </tr>\n",
       "    <tr>\n",
       "      <th>2020-06-21</th>\n",
       "      <td>67</td>\n",
       "    </tr>\n",
       "    <tr>\n",
       "      <th>2020-06-28</th>\n",
       "      <td>70</td>\n",
       "    </tr>\n",
       "    <tr>\n",
       "      <th>2020-07-05</th>\n",
       "      <td>68</td>\n",
       "    </tr>\n",
       "    <tr>\n",
       "      <th>2020-07-12</th>\n",
       "      <td>66</td>\n",
       "    </tr>\n",
       "    <tr>\n",
       "      <th>2020-07-19</th>\n",
       "      <td>66</td>\n",
       "    </tr>\n",
       "    <tr>\n",
       "      <th>2020-07-26</th>\n",
       "      <td>63</td>\n",
       "    </tr>\n",
       "    <tr>\n",
       "      <th>2020-08-02</th>\n",
       "      <td>64</td>\n",
       "    </tr>\n",
       "    <tr>\n",
       "      <th>2020-08-09</th>\n",
       "      <td>61</td>\n",
       "    </tr>\n",
       "    <tr>\n",
       "      <th>2020-08-16</th>\n",
       "      <td>67</td>\n",
       "    </tr>\n",
       "    <tr>\n",
       "      <th>2020-08-23</th>\n",
       "      <td>61</td>\n",
       "    </tr>\n",
       "    <tr>\n",
       "      <th>2020-08-30</th>\n",
       "      <td>62</td>\n",
       "    </tr>\n",
       "    <tr>\n",
       "      <th>2020-09-06</th>\n",
       "      <td>78</td>\n",
       "    </tr>\n",
       "    <tr>\n",
       "      <th>2020-09-13</th>\n",
       "      <td>80</td>\n",
       "    </tr>\n",
       "    <tr>\n",
       "      <th>2020-09-20</th>\n",
       "      <td>66</td>\n",
       "    </tr>\n",
       "    <tr>\n",
       "      <th>2020-09-27</th>\n",
       "      <td>62</td>\n",
       "    </tr>\n",
       "    <tr>\n",
       "      <th>2020-10-04</th>\n",
       "      <td>61</td>\n",
       "    </tr>\n",
       "    <tr>\n",
       "      <th>2020-10-11</th>\n",
       "      <td>59</td>\n",
       "    </tr>\n",
       "    <tr>\n",
       "      <th>2020-10-18</th>\n",
       "      <td>64</td>\n",
       "    </tr>\n",
       "  </tbody>\n",
       "</table>\n",
       "</div>"
      ],
      "text/plain": [
       "            Category: All categories\n",
       "Week        Netflix: (United States)\n",
       "2019-10-27                        54\n",
       "2019-11-03                        54\n",
       "2019-11-10                        54\n",
       "2019-11-17                        51\n",
       "2019-11-24                        59\n",
       "2019-12-01                        51\n",
       "2019-12-08                        50\n",
       "2019-12-15                        58\n",
       "2019-12-22                        76\n",
       "2019-12-29                        88\n",
       "2020-01-05                        68\n",
       "2020-01-12                        64\n",
       "2020-01-19                        67\n",
       "2020-01-26                        57\n",
       "2020-02-02                        57\n",
       "2020-02-09                        57\n",
       "2020-02-16                        57\n",
       "2020-02-23                        54\n",
       "2020-03-01                        53\n",
       "2020-03-08                        57\n",
       "2020-03-15                        90\n",
       "2020-03-22                       100\n",
       "2020-03-29                        95\n",
       "2020-04-05                        87\n",
       "2020-04-12                        82\n",
       "2020-04-19                        92\n",
       "2020-04-26                        84\n",
       "2020-05-03                        81\n",
       "2020-05-10                        73\n",
       "2020-05-17                        73\n",
       "2020-05-24                        72\n",
       "2020-05-31                        63\n",
       "2020-06-07                        68\n",
       "2020-06-14                        63\n",
       "2020-06-21                        67\n",
       "2020-06-28                        70\n",
       "2020-07-05                        68\n",
       "2020-07-12                        66\n",
       "2020-07-19                        66\n",
       "2020-07-26                        63\n",
       "2020-08-02                        64\n",
       "2020-08-09                        61\n",
       "2020-08-16                        67\n",
       "2020-08-23                        61\n",
       "2020-08-30                        62\n",
       "2020-09-06                        78\n",
       "2020-09-13                        80\n",
       "2020-09-20                        66\n",
       "2020-09-27                        62\n",
       "2020-10-04                        61\n",
       "2020-10-11                        59\n",
       "2020-10-18                        64"
      ]
     },
     "execution_count": 5,
     "metadata": {},
     "output_type": "execute_result"
    }
   ],
   "source": [
    "NetflixTimeline_df"
   ]
  },
  {
   "cell_type": "code",
   "execution_count": 6,
   "metadata": {},
   "outputs": [],
   "source": [
    "#clean data and plot netflix timeline"
   ]
  },
  {
   "cell_type": "code",
   "execution_count": 7,
   "metadata": {},
   "outputs": [],
   "source": [
    "NetflixTimeline_df=pd.read_csv('../data/NetflixTimeline.csv', skiprows=1, index_col=0, parse_dates=True)"
   ]
  },
  {
   "cell_type": "code",
   "execution_count": 8,
   "metadata": {},
   "outputs": [
    {
     "data": {
      "text/plain": [
       "<AxesSubplot:xlabel='Week'>"
      ]
     },
     "execution_count": 8,
     "metadata": {},
     "output_type": "execute_result"
    },
    {
     "data": {
      "image/png": "[encoded data removed]",
      "text/plain": [
       "<Figure size 864x288 with 1 Axes>"
      ]
     },
     "metadata": {
      "needs_background": "light"
     },
     "output_type": "display_data"
    }
   ],
   "source": [
    "NetflixTimeline_df.plot(figsize=(12,4))"
   ]
  },
  {
   "cell_type": "code",
   "execution_count": 9,
   "metadata": {},
   "outputs": [
    {
     "data": {
      "text/plain": [
       "DatetimeIndex(['2019-10-27', '2019-11-03', '2019-11-10', '2019-11-17',\n",
       "               '2019-11-24', '2019-12-01', '2019-12-08', '2019-12-15',\n",
       "               '2019-12-22', '2019-12-29', '2020-01-05', '2020-01-12',\n",
       "               '2020-01-19', '2020-01-26', '2020-02-02', '2020-02-09',\n",
       "               '2020-02-16', '2020-02-23', '2020-03-01', '2020-03-08',\n",
       "               '2020-03-15', '2020-03-22', '2020-03-29', '2020-04-05',\n",
       "               '2020-04-12', '2020-04-19', '2020-04-26', '2020-05-03',\n",
       "               '2020-05-10', '2020-05-17', '2020-05-24', '2020-05-31',\n",
       "               '2020-06-07', '2020-06-14', '2020-06-21', '2020-06-28',\n",
       "               '2020-07-05', '2020-07-12', '2020-07-19', '2020-07-26',\n",
       "               '2020-08-02', '2020-08-09', '2020-08-16', '2020-08-23',\n",
       "               '2020-08-30', '2020-09-06', '2020-09-13', '2020-09-20',\n",
       "               '2020-09-27', '2020-10-04', '2020-10-11', '2020-10-18'],\n",
       "              dtype='datetime64[ns]', name='Week', freq=None)"
      ]
     },
     "execution_count": 9,
     "metadata": {},
     "output_type": "execute_result"
    }
   ],
   "source": [
    "NetflixTimeline_df.index"
   ]
  },
  {
   "cell_type": "code",
   "execution_count": 10,
   "metadata": {},
   "outputs": [],
   "source": [
    "#create a dataframe with the most popular Netflix shows from the 2019-2020 year \n",
    "#include different y-positions"
   ]
  },
  {
   "cell_type": "code",
   "execution_count": 11,
   "metadata": {},
   "outputs": [
    {
     "data": {
      "text/html": [
       "<div>\n",
       "<style scoped>\n",
       "    .dataframe tbody tr th:only-of-type {\n",
       "        vertical-align: middle;\n",
       "    }\n",
       "\n",
       "    .dataframe tbody tr th {\n",
       "        vertical-align: top;\n",
       "    }\n",
       "\n",
       "    .dataframe thead th {\n",
       "        text-align: right;\n",
       "    }\n",
       "</style>\n",
       "<table border=\"1\" class=\"dataframe\">\n",
       "  <thead>\n",
       "    <tr style=\"text-align: right;\">\n",
       "      <th></th>\n",
       "      <th>date</th>\n",
       "      <th>show</th>\n",
       "      <th>ypos</th>\n",
       "    </tr>\n",
       "  </thead>\n",
       "  <tbody>\n",
       "    <tr>\n",
       "      <th>0</th>\n",
       "      <td>2020-03-20</td>\n",
       "      <td>Tiger King</td>\n",
       "      <td>50</td>\n",
       "    </tr>\n",
       "    <tr>\n",
       "      <th>1</th>\n",
       "      <td>2020-08-25</td>\n",
       "      <td>Cobra Kai</td>\n",
       "      <td>30</td>\n",
       "    </tr>\n",
       "    <tr>\n",
       "      <th>2</th>\n",
       "      <td>2019-12-26</td>\n",
       "      <td>You</td>\n",
       "      <td>50</td>\n",
       "    </tr>\n",
       "    <tr>\n",
       "      <th>3</th>\n",
       "      <td>2020-08-21</td>\n",
       "      <td>Lucifer</td>\n",
       "      <td>20</td>\n",
       "    </tr>\n",
       "    <tr>\n",
       "      <th>4</th>\n",
       "      <td>2020-01-17</td>\n",
       "      <td>Sex Education</td>\n",
       "      <td>30</td>\n",
       "    </tr>\n",
       "    <tr>\n",
       "      <th>5</th>\n",
       "      <td>2020-07-31</td>\n",
       "      <td>The Umbrella Academy</td>\n",
       "      <td>50</td>\n",
       "    </tr>\n",
       "    <tr>\n",
       "      <th>6</th>\n",
       "      <td>2020-04-03</td>\n",
       "      <td>Money Heist</td>\n",
       "      <td>30</td>\n",
       "    </tr>\n",
       "    <tr>\n",
       "      <th>7</th>\n",
       "      <td>2020-06-05</td>\n",
       "      <td>13 Reasons Why</td>\n",
       "      <td>50</td>\n",
       "    </tr>\n",
       "  </tbody>\n",
       "</table>\n",
       "</div>"
      ],
      "text/plain": [
       "         date                  show  ypos\n",
       "0  2020-03-20            Tiger King    50\n",
       "1  2020-08-25             Cobra Kai    30\n",
       "2  2019-12-26                   You    50\n",
       "3  2020-08-21               Lucifer    20\n",
       "4  2020-01-17         Sex Education    30\n",
       "5  2020-07-31  The Umbrella Academy    50\n",
       "6  2020-04-03           Money Heist    30\n",
       "7  2020-06-05        13 Reasons Why    50"
      ]
     },
     "execution_count": 11,
     "metadata": {},
     "output_type": "execute_result"
    }
   ],
   "source": [
    "pop_shows_df = pd.DataFrame({\n",
    "    'date': ['2020-03-20', '2020-08-25', '2019-12-26', '2020-08-21', '2020-01-17', '2020-07-31', '2020-04-03', '2020-06-05'],\n",
    "    'show': ['Tiger King', 'Cobra Kai', 'You', 'Lucifer', 'Sex Education', 'The Umbrella Academy', 'Money Heist', '13 Reasons Why'],\n",
    "    'ypos': [50, 30, 50, 20, 30, 50, 30, 50]\n",
    "})\n",
    "\n",
    "pop_shows_df"
   ]
  },
  {
   "cell_type": "markdown",
   "metadata": {},
   "source": [
    "I did secondary research to find some of the most popular shows they aired during the year. These shows had some of the highest viewings with the first week or 10 days. I chose shows with high ratings for the first days of airing because the Netflix map is by week and if I had chosen just most popular shows in general than it would not measure against the Netflix map well. "
   ]
  },
  {
   "cell_type": "code",
   "execution_count": 12,
   "metadata": {},
   "outputs": [],
   "source": [
    "pop_shows_df=pop_shows_df.set_index(pd.to_datetime(pop_shows_df['date']))"
   ]
  },
  {
   "cell_type": "code",
   "execution_count": 13,
   "metadata": {},
   "outputs": [
    {
     "name": "stdout",
     "output_type": "stream",
     "text": [
      "Tiger King\n",
      "Cobra Kai\n",
      "You\n",
      "Lucifer\n",
      "Sex Education\n",
      "The Umbrella Academy\n",
      "Money Heist\n",
      "13 Reasons Why\n"
     ]
    }
   ],
   "source": [
    "for i in pop_shows_df.iterrows():\n",
    "    print(i[1]['show'])"
   ]
  },
  {
   "cell_type": "code",
   "execution_count": 14,
   "metadata": {},
   "outputs": [],
   "source": [
    "#plot the netflix timeline with overlapping data from the dataframe of television shows\n",
    "#label the graph\n",
    "#plot the datafram data andn label it on the graph"
   ]
  },
  {
   "cell_type": "code",
   "execution_count": 15,
   "metadata": {},
   "outputs": [
    {
     "ename": "NameError",
     "evalue": "name 'pop' is not defined",
     "output_type": "error",
     "traceback": [
      "\u001b[0;31m---------------------------------------------------------------------------\u001b[0m",
      "\u001b[0;31mNameError\u001b[0m                                 Traceback (most recent call last)",
      "\u001b[0;32m<ipython-input-15-90384dfcdee0>\u001b[0m in \u001b[0;36m<module>\u001b[0;34m()\u001b[0m\n\u001b[1;32m     11\u001b[0m     \u001b[0mypos\u001b[0m \u001b[0;34m=\u001b[0m \u001b[0mi\u001b[0m\u001b[0;34m[\u001b[0m\u001b[0;36m1\u001b[0m\u001b[0;34m]\u001b[0m\u001b[0;34m[\u001b[0m\u001b[0;34m'ypos'\u001b[0m\u001b[0;34m]\u001b[0m\u001b[0;34m\u001b[0m\u001b[0;34m\u001b[0m\u001b[0m\n\u001b[1;32m     12\u001b[0m \u001b[0;34m\u001b[0m\u001b[0m\n\u001b[0;32m---> 13\u001b[0;31m     \u001b[0mlabel\u001b[0m \u001b[0;34m=\u001b[0m \u001b[0;34mf'{show} ({pop})'\u001b[0m\u001b[0;34m\u001b[0m\u001b[0;34m\u001b[0m\u001b[0m\n\u001b[0m\u001b[1;32m     14\u001b[0m \u001b[0;34m\u001b[0m\u001b[0m\n\u001b[1;32m     15\u001b[0m     \u001b[0mnf_plot\u001b[0m\u001b[0;34m.\u001b[0m\u001b[0mvlines\u001b[0m\u001b[0;34m(\u001b[0m\u001b[0mdate\u001b[0m\u001b[0;34m,\u001b[0m \u001b[0;36m0\u001b[0m\u001b[0;34m,\u001b[0m\u001b[0;36m100\u001b[0m\u001b[0;34m,\u001b[0m \u001b[0mlinestyle\u001b[0m\u001b[0;34m=\u001b[0m\u001b[0;34m'dashed'\u001b[0m\u001b[0;34m,\u001b[0m \u001b[0mcolor\u001b[0m\u001b[0;34m=\u001b[0m\u001b[0;34m'#c0c0c0'\u001b[0m\u001b[0;34m)\u001b[0m\u001b[0;34m\u001b[0m\u001b[0;34m\u001b[0m\u001b[0m\n",
      "\u001b[0;31mNameError\u001b[0m: name 'pop' is not defined"
     ]
    },
    {
     "data": {
      "image/png": "[encoded data removed]",
      "text/plain": [
       "<Figure size 864x288 with 1 Axes>"
      ]
     },
     "metadata": {
      "needs_background": "light"
     },
     "output_type": "display_data"
    }
   ],
   "source": [
    "nf_plot=NetflixTimeline_df.plot(figsize=(12,4))\n",
    "\n",
    "plt.xlabel('Month')\n",
    "plt.ylabel('Search Popularity')\n",
    "plt.title('Netflix Search Popularity by Month')\n",
    "\n",
    "\n",
    "for i in pop_shows_df.iterrows():\n",
    "    date = i[1]['date']\n",
    "    show = i[1]['show']\n",
    "    ypos = i[1]['ypos']\n",
    "    \n",
    "    label = f'{show} ({pop})'\n",
    "    \n",
    "    nf_plot.vlines(date, 0,100, linestyle='dashed', color='#c0c0c0')\n",
    "    nf_plot.text(date, ypos, show, color='purple')"
   ]
  },
  {
   "cell_type": "markdown",
   "metadata": {},
   "source": [
    "The graph shows that the releases of new shows does not have a huge effect on the search trends. While it looks like some shows made a big impact like \"You\", Netflix could have used past data that shows people watch the most television around that time so they debuted that show to get more people to watch it. The other show that was aired during a spike was \"Tiger King\" and so I did further research. More people watched \"Money Heist\" than watched \"Tiger King\" however on the graph the former came out on the come-down from the peak so we can't attribute the March peak to \"Tiger King\". This graph is further evidence that COVID-19 accounts for the March peak rather than seasonal trends or anticipated releases. "
   ]
  },
  {
   "cell_type": "code",
   "execution_count": null,
   "metadata": {},
   "outputs": [],
   "source": [
    "NetflixTimeline2019_df = pd.read_csv('../data/NetflixTimeline2019.csv', skiprows=1)"
   ]
  },
  {
   "cell_type": "code",
   "execution_count": null,
   "metadata": {},
   "outputs": [],
   "source": [
    "#rename columns\n",
    "#sort values by ascendiing values\n",
    "#plot netflix 2019 searcch trend data"
   ]
  },
  {
   "cell_type": "code",
   "execution_count": null,
   "metadata": {},
   "outputs": [],
   "source": [
    "NetflixTimeline2019_df.columns = [\"date\",\"value\"]"
   ]
  },
  {
   "cell_type": "code",
   "execution_count": null,
   "metadata": {},
   "outputs": [],
   "source": [
    "NetflixTimeline2019_df = NetflixTimeline2019_df.sort_values(\"value\", ascending = False) "
   ]
  },
  {
   "cell_type": "code",
   "execution_count": null,
   "metadata": {},
   "outputs": [],
   "source": [
    "NetflixTimeline2019_df=pd.read_csv('../data/NetflixTimeline2019.csv', skiprows=1, index_col=0, parse_dates=True)"
   ]
  },
  {
   "cell_type": "code",
   "execution_count": null,
   "metadata": {},
   "outputs": [],
   "source": [
    "NetflixTimeline2019_df.plot(figsize=(12,4))"
   ]
  },
  {
   "cell_type": "code",
   "execution_count": null,
   "metadata": {},
   "outputs": [],
   "source": [
    "NetflixTimeline2019_df.index"
   ]
  },
  {
   "cell_type": "code",
   "execution_count": null,
   "metadata": {},
   "outputs": [],
   "source": [
    "#create a dataframe for popular Netflix shows in tthe 2018-2019 year\n",
    "#organize it by date, show and position on the y-axis"
   ]
  },
  {
   "cell_type": "code",
   "execution_count": null,
   "metadata": {},
   "outputs": [],
   "source": [
    "pop_shows2_df = pd.DataFrame({\n",
    "    'date': ['2019-07-04', '2019-05-03', '2019-01-15', '2019-01-11', '2019-09-13'],\n",
    "    'show': ['Stranger Things 3', 'Dead To Me', 'The Umbrella Academy', 'Sex Education', 'Unbelievable'],\n",
    "    'ypos': [70, 70, 40, 70, 70]\n",
    "})\n",
    "\n",
    "pop_shows2_df"
   ]
  },
  {
   "cell_type": "markdown",
   "metadata": {},
   "source": [
    "I did the same thing as above for the previous year and gathered some of Netflix's most popular show. I included the dates they came out and choose the shows on their popularity in the first week or 10 days. "
   ]
  },
  {
   "cell_type": "code",
   "execution_count": null,
   "metadata": {},
   "outputs": [],
   "source": [
    "pop_shows2_df=pop_shows2_df.set_index(pd.to_datetime(pop_shows2_df['date']))"
   ]
  },
  {
   "cell_type": "code",
   "execution_count": null,
   "metadata": {},
   "outputs": [],
   "source": [
    "#plot Netflix data from 2019 year\n",
    "#plot the datafram data over the graph\n",
    "#label tthet graph and data pointst from the datafram"
   ]
  },
  {
   "cell_type": "code",
   "execution_count": null,
   "metadata": {},
   "outputs": [],
   "source": [
    "nf_plot=NetflixTimeline2019_df.plot(figsize=(12,7))\n",
    "\n",
    "plt.xlabel('Month')\n",
    "plt.ylabel('Search Popularity')\n",
    "plt.title('Netflix Search Popularity by Month in 2019')\n",
    "\n",
    "for i in pop_shows2_df.iterrows():\n",
    "    date = i[1]['date']\n",
    "    show = i[1]['show']\n",
    "    ypos = i[1]['ypos']\n",
    "    \n",
    "    label = f'{show}'\n",
    "    \n",
    "    nf_plot.vlines(date, 0,100, linestyle='dashed', color='#c0c0c0')\n",
    "    nf_plot.text(date, ypos, show, color='purple')"
   ]
  },
  {
   "cell_type": "markdown",
   "metadata": {},
   "source": [
    "This graph shows a similar outcome to the 2020 graph. There are peaks throughout the map that have no shows tied to them and there are releases that even occur on a trough like Stranger Things 3 which was highly anticipated and had tens of millions of viewers. After seeing both of the maps, I can conclude that it was not just this past year that the search trends were not determined by show releases. This provides overwhelming evidence, in conjunction with the past year trends in general that COVID-19 heavily affected Netflix's popularity. "
   ]
  }
 ],
 "metadata": {
  "kernelspec": {
   "display_name": "Python 3",
   "language": "python",
   "name": "python3"
  },
  "language_info": {
   "codemirror_mode": {
    "name": "ipython",
    "version": 3
   },
   "file_extension": ".py",
   "mimetype": "text/x-python",
   "name": "python",
   "nbconvert_exporter": "python",
   "pygments_lexer": "ipython3",
   "version": "3.7.3"
  }
 },
 "nbformat": 4,
 "nbformat_minor": 2
}
